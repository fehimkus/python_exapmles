{
  "nbformat": 4,
  "nbformat_minor": 0,
  "metadata": {
    "colab": {
      "name": "class_function.ipynb",
      "provenance": [],
      "authorship_tag": "ABX9TyNsf6499lEvQemWVL3CrscG",
      "include_colab_link": true
    },
    "kernelspec": {
      "name": "python3",
      "display_name": "Python 3"
    }
  },
  "cells": [
    {
      "cell_type": "markdown",
      "metadata": {
        "id": "view-in-github",
        "colab_type": "text"
      },
      "source": [
        "<a href=\"https://colab.research.google.com/github/fehimkus/python_exapmles/blob/master/class%20and%20function.ipynb\" target=\"_parent\"><img src=\"https://colab.research.google.com/assets/colab-badge.svg\" alt=\"Open In Colab\"/></a>"
      ]
    },
    {
      "cell_type": "code",
      "metadata": {
        "id": "zjjMmrMpXCja",
        "colab_type": "code",
        "colab": {
          "base_uri": "https://localhost:8080/",
          "height": 34
        },
        "outputId": "f1f78f59-fb6b-4b3d-d836-d4046fca2567"
      },
      "source": [
        "#definition a class\n",
        "class animal:\n",
        "  #this class can contain various type function to call back\n",
        "  def __init__(self, species, gender):\n",
        "    #function may have methods with labeled different specifications of \"self\"\n",
        "    self.species = species\n",
        "    self.gender = gender\n",
        "\n",
        "#using this function specify the features and assignment a variable    \n",
        "fluffy = animal('dog', 'female')\n",
        "#print the features which you desire\n",
        "print(fluffy.gender)"
      ],
      "execution_count": 7,
      "outputs": [
        {
          "output_type": "stream",
          "text": [
            "female\n"
          ],
          "name": "stdout"
        }
      ]
    }
  ]
}