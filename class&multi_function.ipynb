{
  "nbformat": 4,
  "nbformat_minor": 0,
  "metadata": {
    "colab": {
      "name": "class&multi_function.ipynb",
      "provenance": [],
      "collapsed_sections": [],
      "authorship_tag": "ABX9TyPMxSxDqwVphr5YzAMDfhDu",
      "include_colab_link": true
    },
    "kernelspec": {
      "name": "python3",
      "display_name": "Python 3"
    }
  },
  "cells": [
    {
      "cell_type": "markdown",
      "metadata": {
        "id": "view-in-github",
        "colab_type": "text"
      },
      "source": [
        "<a href=\"https://colab.research.google.com/github/fehimkus/python_exapmles/blob/master/class%26multi_function.ipynb\" target=\"_parent\"><img src=\"https://colab.research.google.com/assets/colab-badge.svg\" alt=\"Open In Colab\"/></a>"
      ]
    },
    {
      "cell_type": "code",
      "metadata": {
        "id": "PeeczfLFfKjo",
        "colab_type": "code",
        "colab": {
          "base_uri": "https://localhost:8080/",
          "height": 35
        },
        "outputId": "767ec50f-c5ca-43fa-b339-6b6904dd4d43"
      },
      "source": [
        "#Inserting a class \n",
        "class Result:\n",
        "  #defining a function and assigning some moduls\n",
        "  def __init__(self, phy, chem, math):\n",
        "    self.phy = phy\n",
        "    self.chem = chem\n",
        "    self.math = math\n",
        "  #defining another function for printing / you can change depending your desire\n",
        "  def printavg(self):\n",
        "    print((self.phy + self.chem + self.math) / 3)\n",
        "\n",
        "#Attach a variable to class with grades\n",
        "rollone = Result(86, 95, 85)\n",
        "#using the variable to call second function\n",
        "rollone.printavg()"
      ],
      "execution_count": 2,
      "outputs": [
        {
          "output_type": "stream",
          "text": [
            "88.66666666666667\n"
          ],
          "name": "stdout"
        }
      ]
    }
  ]
}