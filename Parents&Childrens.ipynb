{
  "nbformat": 4,
  "nbformat_minor": 0,
  "metadata": {
    "colab": {
      "name": "Parents&Childrens.ipynb",
      "provenance": [],
      "authorship_tag": "ABX9TyOrjNqnDgJyTpHx6yOI3OI0",
      "include_colab_link": true
    },
    "kernelspec": {
      "name": "python3",
      "display_name": "Python 3"
    }
  },
  "cells": [
    {
      "cell_type": "markdown",
      "metadata": {
        "id": "view-in-github",
        "colab_type": "text"
      },
      "source": [
        "<a href=\"https://colab.research.google.com/github/fehimkus/python_exapmles/blob/master/Parents%26Childrens.ipynb\" target=\"_parent\"><img src=\"https://colab.research.google.com/assets/colab-badge.svg\" alt=\"Open In Colab\"/></a>"
      ]
    },
    {
      "cell_type": "code",
      "metadata": {
        "id": "nvH7AEffXBXk",
        "colab_type": "code",
        "colab": {
          "base_uri": "https://localhost:8080/",
          "height": 34
        },
        "outputId": "430435bf-9f0d-4691-cd9f-f44fb10168d5"
      },
      "source": [
        "\n",
        "#Parent class--------------------------------\n",
        "class Dog(object):\n",
        "  def __init__(self, name, age):\n",
        "    self.name = name\n",
        "    self.age = age\n",
        "\n",
        "  def speak(self):\n",
        "    print(\"I'm\", self.name, \"and I'm\", self.age, \"years old\")\n",
        "\n",
        "#Child class----------------------------------\n",
        "class Cat(Dog):\n",
        "  def __init__(self, name, age, color):\n",
        "    super().__init__(name, age)\n",
        "    self.color = color\n",
        "\n",
        "\n",
        "max = Cat('max', 3, 'brown')\n",
        "max.speak()"
      ],
      "execution_count": 6,
      "outputs": [
        {
          "output_type": "stream",
          "text": [
            "I'm max and I'm 3 years old\n"
          ],
          "name": "stdout"
        }
      ]
    }
  ]
}