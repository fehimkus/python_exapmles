{
  "nbformat": 4,
  "nbformat_minor": 0,
  "metadata": {
    "colab": {
      "name": "Parents&Childrens.ipynb",
      "provenance": [],
      "authorship_tag": "ABX9TyOKZCWZHcrToAYgngJxL+Fg",
      "include_colab_link": true
    },
    "kernelspec": {
      "name": "python3",
      "display_name": "Python 3"
    }
  },
  "cells": [
    {
      "cell_type": "markdown",
      "metadata": {
        "id": "view-in-github",
        "colab_type": "text"
      },
      "source": [
        "<a href=\"https://colab.research.google.com/github/fehimkus/python_exapmles/blob/master/Parents%26Childrens.ipynb\" target=\"_parent\"><img src=\"https://colab.research.google.com/assets/colab-badge.svg\" alt=\"Open In Colab\"/></a>"
      ]
    },
    {
      "cell_type": "code",
      "metadata": {
        "id": "nvH7AEffXBXk",
        "colab_type": "code",
        "colab": {
          "base_uri": "https://localhost:8080/",
          "height": 34
        },
        "outputId": "37700aee-7921-4758-a5a5-16da36690ac2"
      },
      "source": [
        "\n",
        "#Parent class--------------------------------\n",
        "class Dog(object):\n",
        "  def __init__(self, name, age):\n",
        "    self.name = name\n",
        "    self.age = age\n",
        "\n",
        "  def speak(self):\n",
        "    print(\"I'm\", self.name, \"and I'm\", self.age, \"years old\")\n",
        "\n",
        "#Child class----------------------------------\n",
        "class Cat(Dog):\n",
        "  def __init__(self, name, age, color):\n",
        "    super().__init__(name, age)\n",
        "    self.color = color\n",
        "\n",
        "\n",
        "max = Cat('max', 3, 'brown')\n",
        "max.speak"
      ],
      "execution_count": 3,
      "outputs": [
        {
          "output_type": "execute_result",
          "data": {
            "text/plain": [
              "<bound method Dog.speak of <__main__.Cat object at 0x7f69f5cf99b0>>"
            ]
          },
          "metadata": {
            "tags": []
          },
          "execution_count": 3
        }
      ]
    }
  ]
}